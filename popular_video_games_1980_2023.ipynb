{
  "nbformat": 4,
  "nbformat_minor": 0,
  "metadata": {
    "colab": {
      "provenance": [],
      "authorship_tag": "ABX9TyMKpAdorUTy/T8iHPo0UORB",
      "include_colab_link": true
    },
    "kernelspec": {
      "name": "python3",
      "display_name": "Python 3"
    },
    "language_info": {
      "name": "python"
    }
  },
  "cells": [
    {
      "cell_type": "markdown",
      "metadata": {
        "id": "view-in-github",
        "colab_type": "text"
      },
      "source": [
        "<a href=\"https://colab.research.google.com/github/Matheus-Chaves/popular_video_games/blob/main/popular_video_games_1980_2023.ipynb\" target=\"_parent\"><img src=\"https://colab.research.google.com/assets/colab-badge.svg\" alt=\"Open In Colab\"/></a>"
      ]
    },
    {
      "cell_type": "markdown",
      "source": [
        "# Estudo sobre o dataset \"Popular Video Games 1980 - 2023 🎮\"\n",
        "\n",
        "Este notebook tem como objetivo analisar o conjunto de dados em questão, lidando principalmente com o meio visual, através da plotagem de gráficos e quantificação dos resultados.\n",
        "\n",
        "O estudo em questão faz parte de um artigo montado no Medium, responsável por apresentar os principais resultados visualizados aqui.\n",
        "\n",
        "- Fonte dos dados: [Kaggle](https://www.kaggle.com/datasets/arnabchaki/popular-video-games-1980-2023)\n",
        "\n"
      ],
      "metadata": {
        "id": "aulWbuCbxc9s"
      }
    },
    {
      "cell_type": "markdown",
      "source": [
        "## Importações das bibliotecas"
      ],
      "metadata": {
        "id": "0dRXprGOyqbc"
      }
    },
    {
      "cell_type": "code",
      "execution_count": null,
      "metadata": {
        "id": "ePFAd7oXf-0-"
      },
      "outputs": [],
      "source": [
        "import pandas as pd\n",
        "import numpy as np"
      ]
    },
    {
      "cell_type": "code",
      "source": [
        "#teste"
      ],
      "metadata": {
        "id": "yObLpfcR4u6W"
      },
      "execution_count": 3,
      "outputs": []
    },
    {
      "cell_type": "markdown",
      "source": [
        "## Análise Exploratória dos Dados (Exploratory Data Analysis - EDA)"
      ],
      "metadata": {
        "id": "CHwx0xM8zpye"
      }
    },
    {
      "cell_type": "markdown",
      "source": [
        "### Lendo dados"
      ],
      "metadata": {
        "id": "f7VB9uLy0i3Q"
      }
    },
    {
      "cell_type": "code",
      "source": [],
      "metadata": {
        "id": "t9udSvYmzxr-"
      },
      "execution_count": null,
      "outputs": []
    }
  ]
}